{
 "cells": [
  {
   "cell_type": "code",
   "execution_count": null,
   "metadata": {},
   "outputs": [],
   "source": [
    "import numpy as np\n",
    "import pandas as pd\n",
    "import xml.etree.ElementTree as et\n",
    "import os"
   ]
  },
  {
   "cell_type": "markdown",
   "metadata": {},
   "source": [
    "## Working with XML files to extract bounding box"
   ]
  },
  {
   "cell_type": "code",
   "execution_count": 40,
   "metadata": {},
   "outputs": [
    {
     "data": {
      "text/plain": [
       "['c.xml', 'd.xml', 'e.xml']"
      ]
     },
     "execution_count": 40,
     "metadata": {},
     "output_type": "execute_result"
    }
   ],
   "source": [
    "xml_path = \"../../datasets/xml_file/\"\n",
    "file_dir = os.listdir(xml_path)\n",
    "file_dir"
   ]
  },
  {
   "cell_type": "code",
   "execution_count": 48,
   "metadata": {},
   "outputs": [],
   "source": [
    "rows = []\n",
    "a = []\n",
    "for fn in file_dir:\n",
    "    file_path = xml_path + fn\n",
    "    with open(file_path, 'r') as xml:\n",
    "        xml_file = et.parse(xml)\n",
    "        xroot = xml_file.getroot()\n",
    "    df_cols = ['file', 'top', 'left', 'height', 'width', 'label']\n",
    "    i = 0\n",
    "    index = []\n",
    "    for node in xroot[2].findall('image'):\n",
    "        file_name = node.attrib.get('file')\n",
    "        box = node.find('box')\n",
    "        top = box.attrib.get('top')\n",
    "        left = box.attrib.get('left')\n",
    "        height = box.attrib.get('height')\n",
    "        width = box.attrib.get('width')\n",
    "        label = box.find('label').text\n",
    "        rows.append({'file': file_name, 'top': top, 'left': left, 'height': height, 'width': width, 'label': label})\n",
    "out_df = pd.DataFrame(rows, columns=df_cols)"
   ]
  },
  {
   "cell_type": "code",
   "execution_count": 49,
   "metadata": {},
   "outputs": [],
   "source": [
    "out_df.to_csv('../../datasets/annotation.csv')"
   ]
  },
  {
   "cell_type": "code",
   "execution_count": null,
   "metadata": {},
   "outputs": [],
   "source": []
  }
 ],
 "metadata": {
  "interpreter": {
   "hash": "8100d057a5a07719bb046da5423a703fc0cac5c55824b295b60e5c40faa27273"
  },
  "kernelspec": {
   "display_name": "Python 3.9.12 ('DS_env')",
   "language": "python",
   "name": "python3"
  },
  "language_info": {
   "codemirror_mode": {
    "name": "ipython",
    "version": 3
   },
   "file_extension": ".py",
   "mimetype": "text/x-python",
   "name": "python",
   "nbconvert_exporter": "python",
   "pygments_lexer": "ipython3",
   "version": "3.9.12"
  },
  "orig_nbformat": 4
 },
 "nbformat": 4,
 "nbformat_minor": 2
}
